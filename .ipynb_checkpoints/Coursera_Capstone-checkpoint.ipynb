{
 "cells": [
  {
   "cell_type": "markdown",
   "metadata": {},
   "source": [
    "This Jupyter notebook file is for the final Coursera Capstone project as part of the Applied Data Science specialization by IBM. \n",
    "\n",
    "As a final assignment, the goal is to come up with an idea to use the provided accident data to predict the various accidents' severity. Important factors are the project validity and relevance towards the community or a group of people. \n",
    "\n",
    "For this the **CR**oss **I**ndustry **S**tandard **P**rocess for **D**ata **M**ining (CRISP-DM) approach is used. With CRISP-DM the following 6 steps are used:\n",
    "1. Business Understanding\n",
    "2. Data Understanding\n",
    "3. Data Preparation\n",
    "4. Modeling\n",
    "5. Evaluation\n",
    "6. Deployment\n",
    "\n",
    "The first 5 steps will be shown below, the last step \"6. Deployment\" is this documentation.\n"
   ]
  },
  {
   "cell_type": "code",
   "execution_count": 18,
   "metadata": {},
   "outputs": [
    {
     "name": "stdout",
     "output_type": "stream",
     "text": [
      "Data-Collisions.csv loaded\n"
     ]
    }
   ],
   "source": [
    "# Before beginning, the following libraries are imported and the CSV data file is loaded\n",
    "\n",
    "import numpy as np\n",
    "import pandas as pd\n",
    "\n",
    "source = 'https://s3.us.cloud-object-storage.appdomain.cloud/cf-courses-data/CognitiveClass/DP0701EN/version-2/Data-Collisions.csv'\n",
    "df_raw = pd.read_csv(source, index_col = False)\n",
    "\n",
    "print('Data-Collisions.csv loaded')\n"
   ]
  },
  {
   "cell_type": "markdown",
   "metadata": {},
   "source": [
    "1. Business Understanding\n",
    "\n",
    "What is the application perspective to the project's objective\n",
    "\n",
    "Mainly text (WEEK 1 GOAL)"
   ]
  },
  {
   "cell_type": "markdown",
   "metadata": {},
   "source": [
    "2. Data Understanding\n",
    "\n",
    "What are usefull attributes/colums for modeling (WEEK 1 GOAL)"
   ]
  },
  {
   "cell_type": "markdown",
   "metadata": {},
   "source": [
    "3. Data Preparation\n",
    "\n",
    "All requirements to create the final dataset for modeling\n",
    "\n"
   ]
  },
  {
   "cell_type": "code",
   "execution_count": null,
   "metadata": {},
   "outputs": [],
   "source": [
    "# All required script for prep work of 3. Data Prep\n",
    "#df_raw.set_index('OBJECTID', inplace=True) # needs to be moved to 3. Data Prep\n",
    "#df_raw.index.name = None\n",
    "#df_raw.head()"
   ]
  },
  {
   "cell_type": "markdown",
   "metadata": {},
   "source": [
    "4. Modeling\n",
    "\n",
    "Build the model, in this case supervised machine learing (see paper)\n"
   ]
  },
  {
   "cell_type": "code",
   "execution_count": null,
   "metadata": {},
   "outputs": [],
   "source": [
    "# All required script for 4. Modeling"
   ]
  },
  {
   "cell_type": "markdown",
   "metadata": {},
   "source": [
    "5. Evaluation\n",
    "\n",
    "Check the results if they allow for 1. Bus.Und. to be achieved. Think of R2 rules\n",
    "Make sure that all is clear why it works or not."
   ]
  },
  {
   "cell_type": "code",
   "execution_count": 19,
   "metadata": {},
   "outputs": [],
   "source": [
    "# All script for 5. Evaluation"
   ]
  }
 ],
 "metadata": {
  "kernelspec": {
   "display_name": "Python 3",
   "language": "python",
   "name": "python3"
  },
  "language_info": {
   "codemirror_mode": {
    "name": "ipython",
    "version": 3
   },
   "file_extension": ".py",
   "mimetype": "text/x-python",
   "name": "python",
   "nbconvert_exporter": "python",
   "pygments_lexer": "ipython3",
   "version": "3.8.5"
  }
 },
 "nbformat": 4,
 "nbformat_minor": 4
}

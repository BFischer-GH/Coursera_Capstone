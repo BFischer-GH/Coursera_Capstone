{
 "cells": [
  {
   "cell_type": "markdown",
   "metadata": {},
   "source": [
    "### Coursera Capstone Project\n",
    "\n",
    "This Jupyter notebook file is for the final Coursera Capstone project as part of the Applied Data Science specialization by IBM. \n",
    "\n",
    "For a final assignment, the goal is to come up with an idea to use the provided accident data to predict the various accidents' severity. Important factors are the project validity and relevance towards the community or a group of people. \n",
    "\n",
    "For this the **CR**oss **I**ndustry **S**tandard **P**rocess for **D**ata **M**ining (CRISP-DM) approach is used. With CRISP-DM the following 6 steps are used:\n",
    "1. Business Understanding\n",
    "2. Data Understanding\n",
    "3. Data Preparation\n",
    "4. Modelling\n",
    "5. Evaluation\n",
    "6. Deployment\n",
    "\n",
    "Week 1: Create GITHUB account and Jupyter notebook file (FINISHED)\n",
    "\n",
    "Week 2: Create the following (Current)\n",
    "\n",
    "* A description of the problem and a discussion of the background. (15 marks)\n",
    "* A description of the data and how it will be used to solve the problem. (15 marks)\n",
    "\n",
    "Week 3: The final deliverables of the project will be created:\n",
    "\n",
    "* A link to the Notebook on your Github repository, showing your code. (15 marks)\n",
    "* A full report consisting of all of the following components (15 marks):\n",
    "    - Introduction where you discuss the business problem and who would be interested in this project.\n",
    "    - Data where you describe the data that will be used to solve the problem and the source of the data.\n",
    "    - Methodology section which represents the main component of the report where you discuss and describe any exploratory data analysis that you did, any inferential statistical testing that you performed, if any, and what machine learnings were used and why.\n",
    "    - Results section where you discuss the results.\n",
    "    - Discussion section where you discuss any observations you noted and any recommendations you can make based on the results.\n",
    "    - Conclusion section where you conclude the report.\n",
    "* Own choice of a presentation or blogpost. (10 marks)\n"
   ]
  },
  {
   "cell_type": "code",
   "execution_count": 1,
   "metadata": {
    "scrolled": true
   },
   "outputs": [
    {
     "name": "stdout",
     "output_type": "stream",
     "text": [
      "Data-Collisions.csv loaded\n"
     ]
    },
    {
     "name": "stderr",
     "output_type": "stream",
     "text": [
      "C:\\ProgramData\\Anaconda3\\lib\\site-packages\\IPython\\core\\interactiveshell.py:3145: DtypeWarning: Columns (33) have mixed types.Specify dtype option on import or set low_memory=False.\n",
      "  has_raised = await self.run_ast_nodes(code_ast.body, cell_name,\n"
     ]
    }
   ],
   "source": [
    "# To begin, the following libraries are imported and the CSV data file is loaded.\n",
    "\n",
    "import numpy as np\n",
    "import pandas as pd\n",
    "import seaborn as sns\n",
    "import matplotlib.pyplot as plt\n",
    "%matplotlib inline\n",
    "\n",
    "source = 'https://raw.githubusercontent.com/BFischer-GH/Coursera_Capstone/master/data/Data-Collisions.csv'\n",
    "df_raw = pd.read_csv(source, index_col = False)\n",
    "\n",
    "print('Data-Collisions.csv loaded')\n"
   ]
  },
  {
   "cell_type": "markdown",
   "metadata": {},
   "source": [
    "### 1. Introduction / Business Understanding (WEEK 2)\n",
    "\n",
    "This section will provide a description of the problem and a brief discussion of the background. \n",
    "\n",
    "A major worldwide goal is the reduction traffic accidents, to improve road safety. Per example, in 2013 there were 1.25 million deaths around the world caused by traffic accidents. It's likely that this number will increase in the coming years.\n",
    "\n",
    "By being able to predict accidents and the severity of the accidents before they occur one can enable safer routes, optimize public transport, and improve on infrastructure costs. This has the meets the goal to make roads and travel safer for all.\n",
    "\n",
    "The goal of this assignment is the prediction of traffic accident severity based on a binairy severity classification of accidents. The severity is classified as property damage (class = 1) or injury (class = 2). By being able to predict the outcome of the severity, one can perhaps develop saver routes (based on time/location), improve ambulance response and look into possible infrastructure problems. Thus the results are relevant for not only drivers themselves but also for public transport officials and first responders. \n",
    "\n",
    "A data set is provided and includes almost 195.000 accidents with a binairy severity classification and 37 other attributes. More details regarding the data will be discussed in section 2 Data/Data Understanding.\n",
    "\n",
    "To summerize, the goal is to investigate a road accident dataset with a binairy severity class and try to predict the severity of an accident, be it property damage or injury, by specific atributes.  "
   ]
  },
  {
   "cell_type": "code",
   "execution_count": null,
   "metadata": {},
   "outputs": [],
   "source": [
    "# "
   ]
  },
  {
   "cell_type": "markdown",
   "metadata": {},
   "source": [
    "### 2. Data/ Data Understanding (WEEK 2)\n",
    "\n",
    "The raw data-file is 194673x38, which entails 194673 accidents with a binary severity classification, (SEVERITYCODE) and 37 additional attributes. The file represents all types of collisions from Jan-2004 to May-2020 in the Seatle (USA) area."
   ]
  },
  {
   "cell_type": "code",
   "execution_count": 2,
   "metadata": {},
   "outputs": [
    {
     "name": "stdout",
     "output_type": "stream",
     "text": [
      "<class 'pandas.core.frame.DataFrame'>\n",
      "RangeIndex: 194673 entries, 0 to 194672\n",
      "Data columns (total 38 columns):\n",
      " #   Column          Non-Null Count   Dtype  \n",
      "---  ------          --------------   -----  \n",
      " 0   SEVERITYCODE    194673 non-null  int64  \n",
      " 1   X               189339 non-null  float64\n",
      " 2   Y               189339 non-null  float64\n",
      " 3   OBJECTID        194673 non-null  int64  \n",
      " 4   INCKEY          194673 non-null  int64  \n",
      " 5   COLDETKEY       194673 non-null  int64  \n",
      " 6   REPORTNO        194673 non-null  object \n",
      " 7   STATUS          194673 non-null  object \n",
      " 8   ADDRTYPE        192747 non-null  object \n",
      " 9   INTKEY          65070 non-null   float64\n",
      " 10  LOCATION        191996 non-null  object \n",
      " 11  EXCEPTRSNCODE   84811 non-null   object \n",
      " 12  EXCEPTRSNDESC   5638 non-null    object \n",
      " 13  SEVERITYCODE.1  194673 non-null  int64  \n",
      " 14  SEVERITYDESC    194673 non-null  object \n",
      " 15  COLLISIONTYPE   189769 non-null  object \n",
      " 16  PERSONCOUNT     194673 non-null  int64  \n",
      " 17  PEDCOUNT        194673 non-null  int64  \n",
      " 18  PEDCYLCOUNT     194673 non-null  int64  \n",
      " 19  VEHCOUNT        194673 non-null  int64  \n",
      " 20  INCDATE         194673 non-null  object \n",
      " 21  INCDTTM         194673 non-null  object \n",
      " 22  JUNCTIONTYPE    188344 non-null  object \n",
      " 23  SDOT_COLCODE    194673 non-null  int64  \n",
      " 24  SDOT_COLDESC    194673 non-null  object \n",
      " 25  INATTENTIONIND  29805 non-null   object \n",
      " 26  UNDERINFL       189789 non-null  object \n",
      " 27  WEATHER         189592 non-null  object \n",
      " 28  ROADCOND        189661 non-null  object \n",
      " 29  LIGHTCOND       189503 non-null  object \n",
      " 30  PEDROWNOTGRNT   4667 non-null    object \n",
      " 31  SDOTCOLNUM      114936 non-null  float64\n",
      " 32  SPEEDING        9333 non-null    object \n",
      " 33  ST_COLCODE      194655 non-null  object \n",
      " 34  ST_COLDESC      189769 non-null  object \n",
      " 35  SEGLANEKEY      194673 non-null  int64  \n",
      " 36  CROSSWALKKEY    194673 non-null  int64  \n",
      " 37  HITPARKEDCAR    194673 non-null  object \n",
      "dtypes: float64(4), int64(12), object(22)\n",
      "memory usage: 56.4+ MB\n"
     ]
    }
   ],
   "source": [
    "# Script for 2. Data/Data Und. \n",
    "\n",
    "# Check info of dataset\n",
    "df_raw.info()"
   ]
  },
  {
   "cell_type": "markdown",
   "metadata": {},
   "source": [
    "#### What are useful attributes for modelling?\n",
    "\n",
    "Next to the severity classification (SEVERITYCODE - 0) there are 37 various attributes. After analysing the provided meta-datafile the following selection is made with grouped related attributes.\n",
    "\n",
    "**Relevant attributes:**\n",
    "- Location related attributes: X (1), Y (2), LOCATION (10);\n",
    "- Accident atributes: SEVERITYDESC (14), COLLISIONTYPE (15), PERSONCOUNT (16), PEDCYLCOUNT (17), PEDCYLCOUNT (18), VEHCOUNT (19), JUNCTIONTYPE (22), SDOT_COLDESC (24), INATTENTIONIND (25), UNDERINFL (26), WEATHER (27), ROADCOND (28), LIGHTCOND (29), PEDROWNOTGRNT (30), SPEEDING (32), ST_COLCODE (33), ST_COLDESC (34), HITPARKEDCAR (37)  \n",
    "- Time related attributes: INCDATE (20), INCDTTM (21)\n",
    "\n",
    "All these attributes give some relevant information related to the accident and will be included to model with. This is related to the location of the accident, specifics related to the accident of the time of the accident.\n",
    "\n",
    "**Non-relevant attributes:**\n",
    "- (Unique) Keys: OBJECTID (3), INCKEY (4), COLDETDEY (5), REPORTNO (6), INTKEY (9), SDOT_COLCODE (23), SDOTCOLNUM (31), SEGLANEKEY (35), CROSSWALKKEY (36).\n",
    "All keys are arbitrary numbers that aren't usable for further modelling. \n",
    "- None relevant data, incomplete or dublicate data: STATUS (7), ADDRTYPE (8), EXCEPTRSNCODE (11), EXCEPTRSNDESC (12), SEVERITYCODE.1 (13), SEVERITYDESC (14);\n",
    "All these attributes are deemed not useful to the analysis, because they are not useful to distuingish collisions, are  incomplete or are a duplicate of another attribute. \n",
    "\n",
    "All the above non-relevant attributes will be excluded from the data frame, as they hold no useful information or hold incomplete information. \n",
    "\n",
    "As many of the remaining attributes are OBJECT types, further investigation is needed if certain attributes are usefull. \n",
    "\n",
    "For modelling and validation the cleaned data file will be split in training and testing sets and perhaps for week 3 additional attribute selection may be performed.  "
   ]
  },
  {
   "cell_type": "markdown",
   "metadata": {},
   "source": [
    "### 3. Data Preparation (WEEK 2)\n",
    "\n",
    "To clean-up the data frame, all non-relevant attributes are removed. "
   ]
  },
  {
   "cell_type": "code",
   "execution_count": 3,
   "metadata": {},
   "outputs": [
    {
     "name": "stdout",
     "output_type": "stream",
     "text": [
      "Non-relevant attributs removed!\n"
     ]
    }
   ],
   "source": [
    "# All required script for prep work of 3. Data Prep\n",
    "df_raw.drop(['OBJECTID','INCKEY'\n",
    "             ,'COLDETKEY', 'REPORTNO'\n",
    "             , 'INTKEY','SDOT_COLCODE'\n",
    "             , 'SDOTCOLNUM' , 'SEGLANEKEY'\n",
    "             ,'CROSSWALKKEY', 'STATUS'\n",
    "             , 'ADDRTYPE', 'EXCEPTRSNCODE'\n",
    "             , 'EXCEPTRSNDESC', 'SEVERITYCODE.1', 'SEVERITYDESC']\n",
    "            ,axis=1, inplace=True)\n",
    "\n",
    "print('Non-relevant attributs removed!')"
   ]
  },
  {
   "cell_type": "markdown",
   "metadata": {},
   "source": [
    "As a second step all accidents that have no Location or Time attributes are removed. "
   ]
  },
  {
   "cell_type": "code",
   "execution_count": 4,
   "metadata": {},
   "outputs": [
    {
     "name": "stdout",
     "output_type": "stream",
     "text": [
      "A total of 5334 incomplete accidents removed!\n",
      "A total of 189339 accidents remain!\n"
     ]
    }
   ],
   "source": [
    "df_clean = df_raw.dropna(subset=['X', 'Y', 'LOCATION'\n",
    "                     ,'INCDATE' ,'INCDTTM'])\n",
    "\n",
    "print('A total of', (df_raw.shape[0]-df_clean.shape[0]), 'incomplete accidents removed!')\n",
    "print('A total of', (df_clean.shape[0]), 'accidents remain!')"
   ]
  },
  {
   "cell_type": "markdown",
   "metadata": {},
   "source": [
    "This means we now have a data base of 189339 accidents with a total 24 atributes (including the binairy classifier)\n",
    "\n",
    "If we then investigate the data for correlation, we don't obtain much information. Many attributes are objects and the correlated values values are relatively low:"
   ]
  },
  {
   "cell_type": "code",
   "execution_count": 9,
   "metadata": {},
   "outputs": [
    {
     "data": {
      "text/html": [
       "<div>\n",
       "<style scoped>\n",
       "    .dataframe tbody tr th:only-of-type {\n",
       "        vertical-align: middle;\n",
       "    }\n",
       "\n",
       "    .dataframe tbody tr th {\n",
       "        vertical-align: top;\n",
       "    }\n",
       "\n",
       "    .dataframe thead th {\n",
       "        text-align: right;\n",
       "    }\n",
       "</style>\n",
       "<table border=\"1\" class=\"dataframe\">\n",
       "  <thead>\n",
       "    <tr style=\"text-align: right;\">\n",
       "      <th></th>\n",
       "      <th>SEVERITYCODE</th>\n",
       "      <th>X</th>\n",
       "      <th>Y</th>\n",
       "      <th>PERSONCOUNT</th>\n",
       "      <th>PEDCOUNT</th>\n",
       "      <th>PEDCYLCOUNT</th>\n",
       "      <th>VEHCOUNT</th>\n",
       "    </tr>\n",
       "  </thead>\n",
       "  <tbody>\n",
       "    <tr>\n",
       "      <th>SEVERITYCODE</th>\n",
       "      <td>1.000000</td>\n",
       "      <td>0.010309</td>\n",
       "      <td>0.017737</td>\n",
       "      <td>0.128866</td>\n",
       "      <td>0.246722</td>\n",
       "      <td>0.214969</td>\n",
       "      <td>-0.058067</td>\n",
       "    </tr>\n",
       "    <tr>\n",
       "      <th>X</th>\n",
       "      <td>0.010309</td>\n",
       "      <td>1.000000</td>\n",
       "      <td>-0.160262</td>\n",
       "      <td>0.012887</td>\n",
       "      <td>0.011304</td>\n",
       "      <td>-0.001752</td>\n",
       "      <td>-0.012168</td>\n",
       "    </tr>\n",
       "    <tr>\n",
       "      <th>Y</th>\n",
       "      <td>0.017737</td>\n",
       "      <td>-0.160262</td>\n",
       "      <td>1.000000</td>\n",
       "      <td>-0.013850</td>\n",
       "      <td>0.010178</td>\n",
       "      <td>0.026304</td>\n",
       "      <td>0.017058</td>\n",
       "    </tr>\n",
       "    <tr>\n",
       "      <th>PERSONCOUNT</th>\n",
       "      <td>0.128866</td>\n",
       "      <td>0.012887</td>\n",
       "      <td>-0.013850</td>\n",
       "      <td>1.000000</td>\n",
       "      <td>-0.024764</td>\n",
       "      <td>-0.040317</td>\n",
       "      <td>0.375640</td>\n",
       "    </tr>\n",
       "    <tr>\n",
       "      <th>PEDCOUNT</th>\n",
       "      <td>0.246722</td>\n",
       "      <td>0.011304</td>\n",
       "      <td>0.010178</td>\n",
       "      <td>-0.024764</td>\n",
       "      <td>1.000000</td>\n",
       "      <td>-0.017461</td>\n",
       "      <td>-0.265337</td>\n",
       "    </tr>\n",
       "    <tr>\n",
       "      <th>PEDCYLCOUNT</th>\n",
       "      <td>0.214969</td>\n",
       "      <td>-0.001752</td>\n",
       "      <td>0.026304</td>\n",
       "      <td>-0.040317</td>\n",
       "      <td>-0.017461</td>\n",
       "      <td>1.000000</td>\n",
       "      <td>-0.257882</td>\n",
       "    </tr>\n",
       "    <tr>\n",
       "      <th>VEHCOUNT</th>\n",
       "      <td>-0.058067</td>\n",
       "      <td>-0.012168</td>\n",
       "      <td>0.017058</td>\n",
       "      <td>0.375640</td>\n",
       "      <td>-0.265337</td>\n",
       "      <td>-0.257882</td>\n",
       "      <td>1.000000</td>\n",
       "    </tr>\n",
       "  </tbody>\n",
       "</table>\n",
       "</div>"
      ],
      "text/plain": [
       "              SEVERITYCODE         X         Y  PERSONCOUNT  PEDCOUNT  \\\n",
       "SEVERITYCODE      1.000000  0.010309  0.017737     0.128866  0.246722   \n",
       "X                 0.010309  1.000000 -0.160262     0.012887  0.011304   \n",
       "Y                 0.017737 -0.160262  1.000000    -0.013850  0.010178   \n",
       "PERSONCOUNT       0.128866  0.012887 -0.013850     1.000000 -0.024764   \n",
       "PEDCOUNT          0.246722  0.011304  0.010178    -0.024764  1.000000   \n",
       "PEDCYLCOUNT       0.214969 -0.001752  0.026304    -0.040317 -0.017461   \n",
       "VEHCOUNT         -0.058067 -0.012168  0.017058     0.375640 -0.265337   \n",
       "\n",
       "              PEDCYLCOUNT  VEHCOUNT  \n",
       "SEVERITYCODE     0.214969 -0.058067  \n",
       "X               -0.001752 -0.012168  \n",
       "Y                0.026304  0.017058  \n",
       "PERSONCOUNT     -0.040317  0.375640  \n",
       "PEDCOUNT        -0.017461 -0.265337  \n",
       "PEDCYLCOUNT      1.000000 -0.257882  \n",
       "VEHCOUNT        -0.257882  1.000000  "
      ]
     },
     "execution_count": 9,
     "metadata": {},
     "output_type": "execute_result"
    }
   ],
   "source": [
    "df_clean.corr()\n"
   ]
  },
  {
   "cell_type": "markdown",
   "metadata": {},
   "source": [
    "Following this we investigate the OBJECT of the dataframe:"
   ]
  },
  {
   "cell_type": "code",
   "execution_count": 10,
   "metadata": {},
   "outputs": [
    {
     "data": {
      "text/html": [
       "<div>\n",
       "<style scoped>\n",
       "    .dataframe tbody tr th:only-of-type {\n",
       "        vertical-align: middle;\n",
       "    }\n",
       "\n",
       "    .dataframe tbody tr th {\n",
       "        vertical-align: top;\n",
       "    }\n",
       "\n",
       "    .dataframe thead th {\n",
       "        text-align: right;\n",
       "    }\n",
       "</style>\n",
       "<table border=\"1\" class=\"dataframe\">\n",
       "  <thead>\n",
       "    <tr style=\"text-align: right;\">\n",
       "      <th></th>\n",
       "      <th>LOCATION</th>\n",
       "      <th>COLLISIONTYPE</th>\n",
       "      <th>INCDATE</th>\n",
       "      <th>INCDTTM</th>\n",
       "      <th>JUNCTIONTYPE</th>\n",
       "      <th>SDOT_COLDESC</th>\n",
       "      <th>INATTENTIONIND</th>\n",
       "      <th>UNDERINFL</th>\n",
       "      <th>WEATHER</th>\n",
       "      <th>ROADCOND</th>\n",
       "      <th>LIGHTCOND</th>\n",
       "      <th>PEDROWNOTGRNT</th>\n",
       "      <th>SPEEDING</th>\n",
       "      <th>ST_COLCODE</th>\n",
       "      <th>ST_COLDESC</th>\n",
       "      <th>HITPARKEDCAR</th>\n",
       "    </tr>\n",
       "  </thead>\n",
       "  <tbody>\n",
       "    <tr>\n",
       "      <th>count</th>\n",
       "      <td>189339</td>\n",
       "      <td>184582</td>\n",
       "      <td>189339</td>\n",
       "      <td>189339</td>\n",
       "      <td>185146</td>\n",
       "      <td>189339</td>\n",
       "      <td>29176</td>\n",
       "      <td>184602</td>\n",
       "      <td>184414</td>\n",
       "      <td>184481</td>\n",
       "      <td>184327</td>\n",
       "      <td>4645</td>\n",
       "      <td>8720</td>\n",
       "      <td>189321</td>\n",
       "      <td>184582</td>\n",
       "      <td>189339</td>\n",
       "    </tr>\n",
       "    <tr>\n",
       "      <th>unique</th>\n",
       "      <td>23890</td>\n",
       "      <td>10</td>\n",
       "      <td>5985</td>\n",
       "      <td>157960</td>\n",
       "      <td>7</td>\n",
       "      <td>39</td>\n",
       "      <td>1</td>\n",
       "      <td>4</td>\n",
       "      <td>11</td>\n",
       "      <td>9</td>\n",
       "      <td>9</td>\n",
       "      <td>1</td>\n",
       "      <td>1</td>\n",
       "      <td>115</td>\n",
       "      <td>62</td>\n",
       "      <td>2</td>\n",
       "    </tr>\n",
       "    <tr>\n",
       "      <th>top</th>\n",
       "      <td>N NORTHGATE WAY BETWEEN MERIDIAN AVE N AND COR...</td>\n",
       "      <td>Parked Car</td>\n",
       "      <td>2006/11/02 00:00:00+00</td>\n",
       "      <td>11/2/2006</td>\n",
       "      <td>Mid-Block (not related to intersection)</td>\n",
       "      <td>MOTOR VEHICLE STRUCK MOTOR VEHICLE, FRONT END ...</td>\n",
       "      <td>Y</td>\n",
       "      <td>N</td>\n",
       "      <td>Clear</td>\n",
       "      <td>Dry</td>\n",
       "      <td>Daylight</td>\n",
       "      <td>Y</td>\n",
       "      <td>Y</td>\n",
       "      <td>32</td>\n",
       "      <td>One parked--one moving</td>\n",
       "      <td>N</td>\n",
       "    </tr>\n",
       "    <tr>\n",
       "      <th>freq</th>\n",
       "      <td>265</td>\n",
       "      <td>46381</td>\n",
       "      <td>88</td>\n",
       "      <td>88</td>\n",
       "      <td>87390</td>\n",
       "      <td>84538</td>\n",
       "      <td>29176</td>\n",
       "      <td>97639</td>\n",
       "      <td>108959</td>\n",
       "      <td>122076</td>\n",
       "      <td>113582</td>\n",
       "      <td>4645</td>\n",
       "      <td>8720</td>\n",
       "      <td>26650</td>\n",
       "      <td>42869</td>\n",
       "      <td>182334</td>\n",
       "    </tr>\n",
       "  </tbody>\n",
       "</table>\n",
       "</div>"
      ],
      "text/plain": [
       "                                                 LOCATION COLLISIONTYPE  \\\n",
       "count                                              189339        184582   \n",
       "unique                                              23890            10   \n",
       "top     N NORTHGATE WAY BETWEEN MERIDIAN AVE N AND COR...    Parked Car   \n",
       "freq                                                  265         46381   \n",
       "\n",
       "                       INCDATE    INCDTTM  \\\n",
       "count                   189339     189339   \n",
       "unique                    5985     157960   \n",
       "top     2006/11/02 00:00:00+00  11/2/2006   \n",
       "freq                        88         88   \n",
       "\n",
       "                                   JUNCTIONTYPE  \\\n",
       "count                                    185146   \n",
       "unique                                        7   \n",
       "top     Mid-Block (not related to intersection)   \n",
       "freq                                      87390   \n",
       "\n",
       "                                             SDOT_COLDESC INATTENTIONIND  \\\n",
       "count                                              189339          29176   \n",
       "unique                                                 39              1   \n",
       "top     MOTOR VEHICLE STRUCK MOTOR VEHICLE, FRONT END ...              Y   \n",
       "freq                                                84538          29176   \n",
       "\n",
       "       UNDERINFL WEATHER ROADCOND LIGHTCOND PEDROWNOTGRNT SPEEDING ST_COLCODE  \\\n",
       "count     184602  184414   184481    184327          4645     8720     189321   \n",
       "unique         4      11        9         9             1        1        115   \n",
       "top            N   Clear      Dry  Daylight             Y        Y         32   \n",
       "freq       97639  108959   122076    113582          4645     8720      26650   \n",
       "\n",
       "                    ST_COLDESC HITPARKEDCAR  \n",
       "count                   184582       189339  \n",
       "unique                      62            2  \n",
       "top     One parked--one moving            N  \n",
       "freq                     42869       182334  "
      ]
     },
     "execution_count": 10,
     "metadata": {},
     "output_type": "execute_result"
    }
   ],
   "source": [
    "df_clean.describe(include=['object'])"
   ]
  },
  {
   "cell_type": "markdown",
   "metadata": {},
   "source": [
    "From this overview addtional information becomes available regarding certain attribute objects. \n",
    "- Low Count attributes:\n",
    "Several attributes have a count that much lower than the amount of collisions. These will be not used.\n",
    "- High Unique attributes: \n",
    "Several attributs have a large unique value, thus including many variables. For this exercise they also will be excluded. A maximum count of 15 is taken. Time related attributes are not included with this.  \n",
    "\n",
    "Following this a improved dataframe is constructed. "
   ]
  },
  {
   "cell_type": "code",
   "execution_count": 16,
   "metadata": {},
   "outputs": [
    {
     "name": "stdout",
     "output_type": "stream",
     "text": [
      "<class 'pandas.core.frame.DataFrame'>\n",
      "Int64Index: 189339 entries, 0 to 194672\n",
      "Data columns (total 18 columns):\n",
      " #   Column         Non-Null Count   Dtype  \n",
      "---  ------         --------------   -----  \n",
      " 0   SEVERITYCODE   189339 non-null  int64  \n",
      " 1   X              189339 non-null  float64\n",
      " 2   Y              189339 non-null  float64\n",
      " 3   LOCATION       189339 non-null  object \n",
      " 4   COLLISIONTYPE  184582 non-null  object \n",
      " 5   PERSONCOUNT    189339 non-null  int64  \n",
      " 6   PEDCOUNT       189339 non-null  int64  \n",
      " 7   PEDCYLCOUNT    189339 non-null  int64  \n",
      " 8   VEHCOUNT       189339 non-null  int64  \n",
      " 9   INCDATE        189339 non-null  object \n",
      " 10  INCDTTM        189339 non-null  object \n",
      " 11  JUNCTIONTYPE   185146 non-null  object \n",
      " 12  SDOT_COLDESC   189339 non-null  object \n",
      " 13  UNDERINFL      184602 non-null  object \n",
      " 14  WEATHER        184414 non-null  object \n",
      " 15  ROADCOND       184481 non-null  object \n",
      " 16  LIGHTCOND      184327 non-null  object \n",
      " 17  HITPARKEDCAR   189339 non-null  object \n",
      "dtypes: float64(2), int64(5), object(11)\n",
      "memory usage: 27.4+ MB\n"
     ]
    }
   ],
   "source": [
    "df_final = df_clean\n",
    "df_final.drop(['ST_COLDESC','ST_COLCODE', 'SPEEDING', 'PEDROWNOTGRNT', 'INATTENTIONIND'],axis=1, inplace=True)\n",
    "\n",
    "df_final.info()"
   ]
  },
  {
   "cell_type": "markdown",
   "metadata": {},
   "source": [
    "From this we now have a dataframe with 189339 collisions and 18 attributes (1 binairy class and 17 other). The next step is to split up the data in training and test and further investigate the attributes. \n",
    "\n",
    "As there are still many OBJECT attributes, further investigation is done by grouping. An example using the weather and roadconditions shown below. More details will follow in the modeling part in week 3. "
   ]
  },
  {
   "cell_type": "code",
   "execution_count": 21,
   "metadata": {},
   "outputs": [
    {
     "data": {
      "image/png": "[encoded data removed]",
      "text/plain": [
       "<Figure size 432x288 with 2 Axes>"
      ]
     },
     "metadata": {
      "needs_background": "light"
     },
     "output_type": "display_data"
    }
   ],
   "source": [
    "df_gptest = df_clean[['WEATHER','ROADCOND','SEVERITYCODE']]\n",
    "grouped_test1 = df_gptest.groupby(['WEATHER','ROADCOND'],as_index=False).mean().round(2)\n",
    "grouped_pivot = grouped_test1.pivot(index='WEATHER',columns='ROADCOND')\n",
    "\n",
    "fig, ax = plt.subplots()\n",
    "im = ax.pcolor(grouped_pivot, cmap='RdBu')\n",
    "\n",
    "#label names\n",
    "row_labels = grouped_pivot.columns.levels[1]\n",
    "col_labels = grouped_pivot.index\n",
    "yaxis_label = 'Weather'\n",
    "xaxis_label = 'Road Conditions'\n",
    "\n",
    "#move ticks and labels to the center\n",
    "ax.set_xticks(np.arange(grouped_pivot.shape[1]) + 0.5, minor=False)\n",
    "ax.set_yticks(np.arange(grouped_pivot.shape[0]) + 0.5, minor=False)\n",
    "\n",
    "#insert labels\n",
    "ax.set_xticklabels(row_labels, minor=False)\n",
    "ax.set_yticklabels(col_labels, minor=False)\n",
    "ax.set_xlabel(xaxis_label)\n",
    "ax.set_ylabel(yaxis_label)\n",
    "\n",
    "#rotate label 45 if too long\n",
    "plt.xticks(rotation=45)\n",
    "\n",
    "fig.colorbar(im)\n",
    "plt.show()"
   ]
  },
  {
   "cell_type": "markdown",
   "metadata": {},
   "source": [
    "### 4. Modeling (WEEK 3)\n",
    "\n",
    "Build the model, in this case supervised machine learing (see paper)\n"
   ]
  },
  {
   "cell_type": "code",
   "execution_count": 118,
   "metadata": {},
   "outputs": [
    {
     "data": {
      "text/plain": [
       "(189339, 18)"
      ]
     },
     "execution_count": 118,
     "metadata": {},
     "output_type": "execute_result"
    }
   ],
   "source": [
    "# All required script for 4. Modeling\n"
   ]
  },
  {
   "cell_type": "markdown",
   "metadata": {},
   "source": [
    "### 5. Evaluation (WEEK 4)\n",
    "\n",
    "Check the results if they allow for 1. Bus.Und. to be achieved. Think of R2 rules\n",
    "Make sure that all is clear why it works or not."
   ]
  },
  {
   "cell_type": "code",
   "execution_count": 4,
   "metadata": {},
   "outputs": [],
   "source": [
    "# All script for 5. Evaluation"
   ]
  }
 ],
 "metadata": {
  "kernelspec": {
   "display_name": "Python 3",
   "language": "python",
   "name": "python3"
  },
  "language_info": {
   "codemirror_mode": {
    "name": "ipython",
    "version": 3
   },
   "file_extension": ".py",
   "mimetype": "text/x-python",
   "name": "python",
   "nbconvert_exporter": "python",
   "pygments_lexer": "ipython3",
   "version": "3.8.5"
  }
 },
 "nbformat": 4,
 "nbformat_minor": 4
}
